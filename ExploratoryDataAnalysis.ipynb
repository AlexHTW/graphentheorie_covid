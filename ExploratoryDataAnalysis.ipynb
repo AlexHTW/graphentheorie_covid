{
 "cells": [
  {
   "cell_type": "markdown",
   "metadata": {},
   "source": [
    "# Exploratory Data Analysis"
   ]
  },
  {
   "cell_type": "code",
   "execution_count": 21,
   "metadata": {},
   "outputs": [],
   "source": [
    "#import libraries\n",
    "import pandas as pd\n",
    "import networkx as nx\n",
    "import matplotlib.pyplot as plt\n",
    "import numpy as np\n",
    "import math\n",
    "from datetime import datetime, date, timedelta\n",
    "from pandas import DataFrame\n",
    "import requests\n",
    "import json\n",
    "import random"
   ]
  },
  {
   "cell_type": "code",
   "execution_count": 22,
   "metadata": {},
   "outputs": [
    {
     "name": "stdout",
     "output_type": "stream",
     "text": [
      "                        Bundesland  AnzahlFall\n",
      "Meldedatum                                    \n",
      "2020-01-02     Nordrhein-Westfalen           1\n",
      "2020-01-03       Baden-Württemberg           1\n",
      "2020-01-12     Nordrhein-Westfalen           1\n",
      "2020-01-18             Brandenburg           1\n",
      "2020-01-28                  Bayern           2\n",
      "2020-01-28     Nordrhein-Westfalen           1\n",
      "2020-01-29                  Bayern           2\n",
      "2020-01-30     Nordrhein-Westfalen           1\n",
      "2020-01-31                  Bayern           5\n",
      "2020-01-31                Saarland           1\n",
      "2020-02-03                  Bayern           1\n",
      "2020-02-04           Niedersachsen           1\n",
      "2020-02-04                  Bayern           3\n",
      "2020-02-06                  Bayern           1\n",
      "2020-02-07                  Bayern           1\n",
      "2020-02-11                  Bayern           2\n",
      "2020-02-12     Nordrhein-Westfalen           1\n",
      "2020-02-12                  Bayern           1\n",
      "2020-02-20     Nordrhein-Westfalen           1\n",
      "2020-02-24       Baden-Württemberg           1\n",
      "2020-02-25       Baden-Württemberg           2\n",
      "2020-02-26     Nordrhein-Westfalen           3\n",
      "2020-02-26       Baden-Württemberg           4\n",
      "2020-02-27                  Bayern           1\n",
      "2020-02-27       Baden-Württemberg           3\n",
      "2020-02-27     Nordrhein-Westfalen          19\n",
      "2020-02-27                Saarland           1\n",
      "2020-02-28      Schleswig-Holstein           1\n",
      "2020-02-28       Baden-Württemberg           7\n",
      "2020-02-28                  Hessen           1\n",
      "...                            ...         ...\n",
      "2020-12-07       Baden-Württemberg        1670\n",
      "2020-12-07             Brandenburg         335\n",
      "2020-12-07                  Bayern        2850\n",
      "2020-12-07               Thüringen         415\n",
      "2020-12-07                 Hamburg         269\n",
      "2020-12-07          Sachsen-Anhalt         432\n",
      "2020-12-07                  Hessen        1190\n",
      "2020-12-07                 Sachsen        1785\n",
      "2020-12-07  Mecklenburg-Vorpommern          61\n",
      "2020-12-07                Saarland          73\n",
      "2020-12-07           Niedersachsen         819\n",
      "2020-12-07                  Bremen          46\n",
      "2020-12-07     Nordrhein-Westfalen        3271\n",
      "2020-12-07         Rheinland-Pfalz         755\n",
      "2020-12-08                  Bremen         121\n",
      "2020-12-08          Sachsen-Anhalt         200\n",
      "2020-12-08                 Sachsen         812\n",
      "2020-12-08                Saarland         212\n",
      "2020-12-08       Baden-Württemberg        2012\n",
      "2020-12-08         Rheinland-Pfalz         547\n",
      "2020-12-08                  Bayern        2665\n",
      "2020-12-08           Niedersachsen         157\n",
      "2020-12-08  Mecklenburg-Vorpommern         213\n",
      "2020-12-08                  Berlin         382\n",
      "2020-12-08      Schleswig-Holstein         310\n",
      "2020-12-08                  Hessen        1398\n",
      "2020-12-08                 Hamburg          16\n",
      "2020-12-08             Brandenburg          63\n",
      "2020-12-08     Nordrhein-Westfalen        3615\n",
      "2020-12-08               Thüringen         502\n",
      "\n",
      "[4396 rows x 2 columns]\n"
     ]
    }
   ],
   "source": [
    "#Download data set for explore a case count\n",
    "url = \"https://opendata.arcgis.com/datasets/dd4580c810204019a7b8eb3e0b329dd6_0.csv\"\n",
    "data = pd.read_csv(url,\n",
    "\t\t\t\t encoding= 'utf8', \n",
    "\t\t\t\t usecols=['Bundesland', 'AnzahlFall', 'Meldedatum'],\n",
    "\t\t\t\t parse_dates=['Meldedatum'])\n",
    "\n",
    "bundesland_cases = data.groupby(['Bundesland', 'Meldedatum'], as_index = False)['AnzahlFall'].sum()\n",
    "bundesland_cases = bundesland_cases.set_index(\"Meldedatum\").sort_index()\n",
    "print(bundesland_cases)    "
   ]
  },
  {
   "cell_type": "code",
   "execution_count": 20,
   "metadata": {},
   "outputs": [
    {
     "name": "stdout",
     "output_type": "stream",
     "text": [
      "                Bundesland  AnzahlFall\n",
      "0        Baden-Württemberg      170872\n",
      "1                   Bayern      238390\n",
      "2                   Berlin       73393\n",
      "3              Brandenburg       23365\n",
      "4                   Bremen       10967\n",
      "5                  Hamburg       27359\n",
      "6                   Hessen       99519\n",
      "7   Mecklenburg-Vorpommern        7056\n",
      "8            Niedersachsen       79170\n",
      "9      Nordrhein-Westfalen      294646\n",
      "10         Rheinland-Pfalz       51180\n",
      "11                Saarland       14412\n",
      "12                 Sachsen       73733\n",
      "13          Sachsen-Anhalt       15822\n",
      "14      Schleswig-Holstein       16274\n",
      "15               Thüringen       22016\n"
     ]
    },
    {
     "data": {
      "image/png": "[encoded data removed]",
      "text/plain": [
       "<matplotlib.figure.Figure at 0x7fc3c8656da0>"
      ]
     },
     "metadata": {},
     "output_type": "display_data"
    }
   ],
   "source": [
    "# accumulate cases per Bundesland\n",
    "\n",
    "bundesland_cases_sum = data.groupby(['Bundesland'], as_index = False)['AnzahlFall'].sum()\n",
    "print(bundesland_cases_sum)\n",
    "bundesland_cases_sum.plot(x ='Bundesland', y='AnzahlFall', kind = 'bar')\n",
    "\n",
    "plt.title('Anzahl der gesamten Fällen in allen Bundesländern')\n",
    "plt.xlabel('Bundesland')\n",
    "plt.ylabel('AnzahlFall')\n",
    "plt.show()"
   ]
  },
  {
   "cell_type": "markdown",
   "metadata": {},
   "source": [
    "Folgende Schritte werden analysiert:\n",
    "- Wir haben festgestellt, dass die meisten Cases in folgenden Bundesländer vorkommen:\n",
    "  Baden-Württemberg, Bayern, Berlin, Hessen, Neidersachsen, NRW, Rheinland-Pfalz und Sachsen. Diese würden wir   ein bisschen genauer anschauen, um festzustellen, welche Maßnahmen dort eingeführt waren\n",
    "- Und umgekehrt wollen wir die Bunderländer betrachten, die nicht so viele Anzahl der Fällen enthalten, welche Maßnahmen sind dort eingeführt\n",
    "- Vergleichen die beiden Ergebnisse -> Abhängigkeiten herausfinden?\n",
    "\n"
   ]
  }
 ],
 "metadata": {
  "kernelspec": {
   "display_name": "Python 3",
   "language": "python",
   "name": "python3"
  },
  "language_info": {
   "codemirror_mode": {
    "name": "ipython",
    "version": 3
   },
   "file_extension": ".py",
   "mimetype": "text/x-python",
   "name": "python",
   "nbconvert_exporter": "python",
   "pygments_lexer": "ipython3",
   "version": "3.6.4"
  }
 },
 "nbformat": 4,
 "nbformat_minor": 2
}
